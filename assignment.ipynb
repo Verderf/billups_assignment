{
 "cells": [
  {
   "cell_type": "code",
   "execution_count": null,
   "metadata": {},
   "outputs": [],
   "source": [
    "import findspark\n",
    "findspark.init()\n",
    "\n",
    "import pyspark # only run after findspark.init()\n",
    "from pyspark.sql import SparkSession\n",
    "spark = SparkSession.builder.getOrCreate()\n",
    "\n",
    "spark"
   ]
  },
  {
   "cell_type": "code",
   "execution_count": null,
   "metadata": {},
   "outputs": [],
   "source": [
    "# PREPS AND LOADING THE DATAFRAMES\n",
    "from pyspark.sql.functions import col, month, year, hour, date_format, sum, avg, row_number, coalesce, dense_rank, format_number, count, rank\n",
    "from pyspark.sql.window import Window\n",
    "\n",
    "# loading files into respective dfs                                                       ( PLEASE SWAP THE FILE PATHS BEFORE THE RUN)\n",
    "df_history = spark.read.format(\"parquet\").load('historical-subset.parquet')                        # << - HERE\n",
    "df_merchants = spark.read.option(\"header\",True).format(\"csv\").load('merchants-subset.csv')\n",
    "\n",
    "# Adding a prefix to df_merchants columns so we can avoid ambuguity errors + swapping null merchant_id/category with \"merchant/category unknown\"\n",
    "df_prepared = df_history.withColumn(\"month_and_year_of_purchase\", date_format(\"purchase_date\", 'MMM-yyyy'))\\\n",
    "                        .withColumn(\"purchase_hour\", hour(df_history.purchase_date))\\\n",
    "                        .na.fill(value=\"Unknown merchant\", subset=[\"merchant_id\"])\\\n",
    "                        .na.fill(value=\"Unknown category\", subset=[\"category\"])\n",
    "\n",
    "df_merchants = df_merchants.select([col(c).alias(f\"df2_{c}\") for c in df_merchants.columns])\n",
    "\n",
    "df_prepared.show(3)\n",
    "df_merchants.show(3)\n",
    "\n",
    "\n",
    "print(\"while doing question 4 I figured that some merchants with different names share the same merchant_id. I assume this is ok?\")\n",
    "df_merchants.where(col(\"df2_merchant_id\") == \"M_ID_00a6ca8a8a\").show(3)"
   ]
  },
  {
   "cell_type": "code",
   "execution_count": null,
   "metadata": {},
   "outputs": [],
   "source": [
    "# Preparing the joined dataframe: joining df_prepared with df_merchants, coalescing the merchant_name column values, casting amount column to a readabla format  \n",
    "df_joined = df_prepared.join(df_merchants, df_prepared.merchant_id == df_merchants.df2_merchant_id, 'left')\\\n",
    "                       .select(df_prepared[\"*\"], df_merchants[\"df2_merchant_name\"])\\\n",
    "                       .withColumn(\"merchant_name\", coalesce(\"df2_merchant_name\",\"merchant_id\"))\\\n",
    "                       .withColumn('purchase_amount', col('purchase_amount').cast('decimal(12,2)'))\\\n",
    "                       .drop(\"df2_merchant_name\")\n",
    "\n",
    "print(df_joined.schema[\"purchase_amount\"].dataType)\n",
    "\n",
    "#checking if coalesced any of the merchant_id's  -- none found\n",
    "#df_joined.where(col(\"merchant_name\").like(\"M_ID%\")).show()   \n",
    "\n",
    "df_joined.show(3)\n"
   ]
  },
  {
   "cell_type": "code",
   "execution_count": null,
   "metadata": {},
   "outputs": [],
   "source": [
    "# TASK 1 : Top 5 merchants by PURCHASE_AMOUNT by MONTH, CITY\n",
    "# First, let's group by the \"month_and_year_of_purchase\", \"city_id\", \"merchant_id\"\n",
    "df_grouped = df_joined.groupBy(\"month_and_year_of_purchase\", \"city_id\", \"merchant_name\")\\\n",
    "                .agg(sum(\"purchase_amount\").alias(\"Purchase Sum\"))\n",
    "\n",
    "# Now using a window function to get rownumber for the most performing merchants (then droppint it)\n",
    "time_city_window = Window.partitionBy(\"month_and_year_of_purchase\", \"city_id\").orderBy(col(\"Purchase Sum\").desc())\n",
    "\n",
    "df_by_month = df_grouped.withColumn(\"row\", row_number().over(time_city_window)).filter(col(\"row\") <= 5).drop(\"row\")\n",
    "\n",
    "# Renaming columns in final output\n",
    "output_col_list = [\"Month\", \"City\", \"Merchant\", \"Purchase Total\"]\n",
    "df_by_month = df_by_month.toDF(*output_col_list)\n",
    "\n",
    "df_by_month.show()\n"
   ]
  },
  {
   "cell_type": "code",
   "execution_count": null,
   "metadata": {},
   "outputs": [],
   "source": [
    "# TASK 2 : Finding the average sale amount per merchant per state\n",
    "\n",
    "# Just for debugging + is state = -1 ok?\n",
    "#df_grouped2 = df_joined.groupBy(\"merchant_id\", \"state_id\")\\\n",
    "#                       .agg(avg(\"purchase_amount\").alias(\"Purchase Avg\"), sum(\"purchase_amount\").alias('sum'), count(\"purchase_amount\").alias('count')).orderBy(col(\"Purchase Avg\").desc()).show()\n",
    "\n",
    "# Creating another groupby dataframe :\n",
    "df_grouped2 = df_joined.groupBy(\"merchant_name\", \"state_id\")\\\n",
    "                       .agg(avg(\"purchase_amount\").alias(\"Purchase Avg\")).orderBy(col(\"Purchase Avg\").desc())\n",
    "\n",
    "# Remove the avg excessive presicion for readability\n",
    "df_grouped2 = df_grouped2.withColumn('Purchase Avg', col('Purchase Avg').cast('decimal(12,2)'))\n",
    "\n",
    "# Renaming columns in final output\n",
    "output_col_list2 = [\"Merchant\", \"State\",\"Average Amount\"]\n",
    "df_grouped2 = df_grouped2.toDF(*output_col_list2)\n",
    "\n",
    "df_grouped2.show()"
   ]
  },
  {
   "cell_type": "code",
   "execution_count": null,
   "metadata": {},
   "outputs": [],
   "source": [
    "# TASK 3 : Finding the top 3 performing hours by purchase_amount by product category\n",
    "# Creating another window filter by purchase sum\n",
    "category_hour_window = Window.partitionBy(\"category\").orderBy(col(\"Purchase Sum\").desc())\n",
    "\n",
    "df_grouped3 = df_joined.groupBy(\"category\", \"purchase_hour\")\\\n",
    "                       .agg(sum(\"purchase_amount\").alias(\"Purchase Sum\"))\n",
    "\n",
    "df_by_hour = df_grouped3.withColumn(\"row\", row_number().over(category_hour_window)).filter(col(\"row\") <= 3)\\\n",
    "                        .drop(\"row\").drop(col(\"Purchase Sum\"))\n",
    "\n",
    "df_by_hour.show()\n",
    "\n",
    "# Hours 12 and 13 are good for both A and B + the Unknown category\n",
    "# The C category is more inclined to hours 15 to 17 with more sells later in the day"
   ]
  },
  {
   "cell_type": "code",
   "execution_count": null,
   "metadata": {},
   "outputs": [],
   "source": [
    "# TASK 4 : Finding the most popular cities by merchants with most transactions\n",
    "\n",
    "# !! One Merchant_id might have more than one merchant_names attached, so let's try and group_by the ID \n",
    "# Creating a ranking window function for count of transactions per merchant to make sure we're taking the most popular ones\n",
    "merchant_popularity_window  = Window.partitionBy(\"merchant_id\").orderBy(col(\"count\").desc())\n",
    "\n",
    "df_grouped4  = df_joined.groupBy(\"merchant_id\", \"city_id\", \"category\").count()\\\n",
    "                        .withColumn(\"transactions count rank per merchant \", rank().over(merchant_popularity_window))\\\n",
    "                        .orderBy(col(\"count\").desc()).drop(\"merchant_id\")\n",
    "\n",
    "df_grouped4.show()\n",
    "\n",
    "# Notes Cat B is the most popular in city 1, C has a minor sales fraction.\n",
    "#       Cities 1 and 69 are the most popular"
   ]
  },
  {
   "cell_type": "markdown",
   "metadata": {},
   "source": [
    "Question 5 \n",
    "\n",
    "\n",
    "q: Which cities would you advise them to focus on and why?\n",
    "\n",
    "      a: As per task 4 outcome, cities 1 and 69 locate the most popular merchants. Those are mostly selling categories A and B\n",
    "\n",
    "q: Which categories would you recommend they sell\n",
    "\n",
    "      a: I assume that the customer is not tied to a specific category, so I'd suggest selling either A or B as those are the categories with the most sales overall\n",
    "\n",
    "       df_joined.groupBy(\"month_and_year_of_purchase\", \"category\").agg(sum(\"purchase_amount\").alias(\"Purchase Sum\")).orderBy(col(\"Purchase Sum\").desc()).show(100)\n",
    "\n",
    "       Note : It is also assumed that competition is out of the equation, otherwise it'd be not very wise to take either of those categories in any of the cities\n",
    "\n",
    "q: Are there particular periods (months) that have interesting sales behaviors?\n",
    "\n",
    "       a: df_joined.groupBy(\"month_and_year_of_purchase\").agg(sum(\"purchase_amount\").alias(\"Purchase Sum\")).orderBy(col(\"Purchase Sum\").desc()).show()\n",
    "       This query shows that revenues tend to climb up gradually over the year and peak at the end of it\n",
    "\n",
    "       month_and_year_of_purchase|  Purchase Sum|\n",
    "\n",
    "             Dec-2017|             17985530483.85|\n",
    "             Jan-2018|             15072733775.32|\n",
    "             Nov-2017|             14895102411.56|\n",
    "             Oct-2017|             13216024402.82|\n",
    "             Feb-2018|             12830527978.20|\n",
    "             Sep-2017|             12593080677.42|\n",
    "             Aug-2017|             11551547781.13|\n",
    "             Jul-2017|             10514508507.65|\n",
    "             Jun-2017|              8729460160.04|\n",
    "             May-2017|              7984831489.83|\n",
    "             Mar-2017|              7488129164.64|\n",
    "             Apr-2017|              7449791594.04|\n",
    "             Feb-2017|              6197997283.63|\n",
    "             Jan-2017|              5863203497.65|\n",
    "\n",
    "\n",
    "q: What hours would you recommend they open and close for the day?\n",
    "\n",
    "      a: Hours 12 and 13 are good for both A and B + the Unknown category  (see code return in TASK 3)\n",
    "         The C category is more inclined to hours 15 to 17 with more sales later in the day\n",
    "\n",
    "q: Would you recommend accepting payments in installments? Assume a credit default rate of 22.9% per month. \n",
    "For this question, consider the “installments” header in the historical transactions and the impact it may have, if any, on merchant sales (merchant sales in terms of purchase_amounts). We are making a simplistic assumption that 25% of sales is gross profit to merchants, there are equal installments and everyone who defaulted did so after making half payment.\n",
    "\n",
    "      a: Couldn't finish the question due to lack of time, sorry. I will just submit what I could do since I'm past due anyway :("
   ]
  },
  {
   "cell_type": "markdown",
   "metadata": {},
   "source": []
  }
 ],
 "metadata": {
  "kernelspec": {
   "display_name": "Python 3.8.8 64-bit",
   "language": "python",
   "name": "python3"
  },
  "language_info": {
   "codemirror_mode": {
    "name": "ipython",
    "version": 3
   },
   "file_extension": ".py",
   "mimetype": "text/x-python",
   "name": "python",
   "nbconvert_exporter": "python",
   "pygments_lexer": "ipython3",
   "version": "3.8.8"
  },
  "orig_nbformat": 4,
  "vscode": {
   "interpreter": {
    "hash": "aadb20322db8c41b9f07ad3b373ddb922185fd5f0125749c890935fcb0ba1ead"
   }
  }
 },
 "nbformat": 4,
 "nbformat_minor": 2
}
